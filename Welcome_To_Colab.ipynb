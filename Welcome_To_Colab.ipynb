{
  "cells": [
    {
      "cell_type": "markdown",
      "metadata": {
        "id": "view-in-github",
        "colab_type": "text"
      },
      "source": [
        "<a href=\"https://colab.research.google.com/github/nithesh212006/NM-AIR-QUALITY/blob/main/Welcome_To_Colab.ipynb\" target=\"_parent\"><img src=\"https://colab.research.google.com/assets/colab-badge.svg\" alt=\"Open In Colab\"/></a>"
      ]
    },
    {
      "cell_type": "code",
      "source": [
        "# Inspect the column names\n",
        "print(data.columns)\n",
        "\n",
        "# Optional: clean up column names\n",
        "data.columns = data.columns.str.strip()\n",
        "\n",
        "# Make sure the columns exist\n",
        "required_columns = ['PM2.5', 'PM10', 'NO2', 'SO2', 'CO', 'O3', 'AQI']\n",
        "missing_columns = [col for col in required_columns if col not in data.columns]\n",
        "\n",
        "if missing_columns:\n",
        "    print(\"Missing columns:\", missing_columns)\n",
        "else:\n",
        "    X = data[['PM2.5', 'PM10', 'NO2', 'SO2', 'CO', 'O3']]\n",
        "    y = data['AQI']\n",
        "    # Continue with training and evaluation..."
      ],
      "metadata": {
        "id": "7FpYPWg8GwcS",
        "outputId": "9543832a-9f21-468f-943a-40c447a2a631",
        "colab": {
          "base_uri": "https://localhost:8080/"
        }
      },
      "execution_count": 5,
      "outputs": [
        {
          "output_type": "stream",
          "name": "stdout",
          "text": [
            "Index(['Name', 'Age', 'Marks', 'Attendance', 'Passed'], dtype='object')\n",
            "Missing columns: ['PM2.5', 'PM10', 'NO2', 'SO2', 'CO', 'O3', 'AQI']\n"
          ]
        }
      ]
    }
  ],
  "metadata": {
    "colab": {
      "name": "Welcome To Colab",
      "provenance": [],
      "include_colab_link": true
    },
    "kernelspec": {
      "display_name": "Python 3",
      "name": "python3"
    }
  },
  "nbformat": 4,
  "nbformat_minor": 0
}