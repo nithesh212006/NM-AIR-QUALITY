{
  "cells": [
    {
      "cell_type": "markdown",
      "metadata": {
        "id": "view-in-github",
        "colab_type": "text"
      },
      "source": [
        "<a href=\"https://colab.research.google.com/github/nithesh212006/NM-AIR-QUALITY/blob/main/hackthon.ipynb\" target=\"_parent\"><img src=\"https://colab.research.google.com/assets/colab-badge.svg\" alt=\"Open In Colab\"/></a>"
      ]
    },
    {
      "cell_type": "code",
      "source": [
        "import cv2\n",
        "import numpy as np\n",
        "\n",
        "def detect_color(image_path):\n",
        "    \"\"\"\n",
        "    Detects the dominant color in an image.\n",
        "\n",
        "    Args:\n",
        "        image_path (str): The path to the image file.\n",
        "\n",
        "    Returns:\n",
        "        tuple: A tuple containing the dominant color in BGR format (Blue, Green, Red)\n",
        "               and a visualization of the detected color. Returns None if the image\n",
        "               cannot be loaded.\n",
        "    \"\"\"\n",
        "    try:\n",
        "        img = cv2.imread(image_path)\n",
        "        if img is None:\n",
        "            print(f\"Error: Could not open or find the image at {image_path}\")\n",
        "            return None\n",
        "\n",
        "        # Resize the image to speed up processing (optional)\n",
        "        resized_img = cv2.resize(img, (100, 100))\n",
        "\n",
        "        # Reshape the image to a list of pixels\n",
        "        pixels = resized_img.reshape((-1, 3))\n",
        "\n",
        "        # Convert to float32 for k-means\n",
        "        pixels = np.float32(pixels)\n",
        "\n",
        "        # Number of clusters (dominant colors to find)\n",
        "        n_colors = 5\n",
        "\n",
        "        # Define criteria and apply kmeans\n",
        "        criteria = (cv2.TERM_CRITERIA_EPS + cv2.TERM_CRITERIA_MAX_ITER, 10, 1.0)\n",
        "        flags = cv2.KMEANS_RANDOM_CENTERS\n",
        "        _, labels, centers = cv2.kmeans(pixels, n_colors, None, criteria, 10, flags)\n",
        "\n",
        "        # Count each center's frequency\n",
        "        counts = np.bincount(labels.flatten())\n",
        "\n",
        "        # Get the most frequent color\n",
        "        dominant_color = centers[np.argmax(counts)].astype(int)\n",
        "\n",
        "        # Create a swatch to display the color\n",
        "        color_swatch = np.zeros((100, 100, 3), dtype=np.uint8)\n",
        "        color_swatch[:] = dominant_color\n",
        "\n",
        "        return tuple(dominant_color), color_swatch\n",
        "\n",
        "    except Exception as e:\n",
        "        print(f\"An error occurred: {e}\")\n",
        "        return None\n",
        "\n",
        "if __name__ == \"__main__\":\n",
        "    image_file = \"your_image.jpg\"  # Replace with the actual path to your image\n",
        "    result = detect_color(image_file)\n",
        "\n",
        "    if result:\n",
        "        dominant_color_bgr, color_swatch = result\n",
        "        print(f\"Dominant color (BGR): {dominant_color_bgr}\")\n",
        "\n",
        "        # Convert BGR to RGB for display\n",
        "        dominant_color_rgb = (dominant_color_bgr[2], dominant_color_bgr[1], dominant_color_bgr[0])\n",
        "        print(f\"Dominant color (RGB): {dominant_color_rgb}\")\n",
        "\n",
        "        # Show the color swatch\n",
        "        cv2.imshow(\"Dominant Color\", color_swatch)\n",
        "        cv2.waitKey(0)\n",
        "        cv2.destroyAllWindows()\n"
      ],
      "metadata": {
        "id": "-WlcR3qpCMmq",
        "outputId": "cc5c113d-6c2d-4e7d-a9bf-6fdcb91cd380",
        "colab": {
          "base_uri": "https://localhost:8080/"
        }
      },
      "execution_count": 14,
      "outputs": [
        {
          "output_type": "stream",
          "name": "stdout",
          "text": [
            "Error: Could not open or find the image at your_image.jpg\n"
          ]
        }
      ]
    },
    {
      "cell_type": "code",
      "source": [
        "import cv2\n",
        "import numpy as np\n",
        "\n",
        "def detect_color(image_path):\n",
        "    \"\"\"\n",
        "    Detects the dominant color in an image.\n",
        "\n",
        "    Args:\n",
        "        image_path (str): The path to the image file.\n",
        "\n",
        "    Returns:\n",
        "        tuple: A tuple containing the dominant color in BGR format (Blue, Green, Red)\n",
        "               and a visualization of the detected color. Returns None if the image\n",
        "               cannot be loaded.\n",
        "    \"\"\"\n",
        "    try:\n",
        "        img = cv2.imread(image_path)\n",
        "        if img is None:\n",
        "            print(f\"Error: Could not open or find the image at {image_path}\")\n",
        "            return None\n",
        "\n",
        "        # Resize the image to speed up processing (optional)\n",
        "        resized_img = cv2.resize(img, (100, 100))\n",
        "\n",
        "        # Reshape the image to a list of pixels\n",
        "        pixels = resized_img.reshape((-1, 3))\n",
        "\n",
        "        # Convert to float32 for k-means\n",
        "        pixels = np.float32(pixels)\n",
        "\n",
        "        # Number of clusters (dominant colors to find)\n",
        "        n_colors = 5\n",
        "\n",
        "        # Define criteria and apply kmeans\n",
        "        criteria = (cv2.TERM_CRITERIA_EPS + cv2.TERM_CRITERIA_MAX_ITER, 10, 1.0)\n",
        "        flags = cv2.KMEANS_RANDOM_CENTERS\n",
        "        _, labels, centers = cv2.kmeans(pixels, n_colors, None, criteria, 10, flags)\n",
        "\n",
        "        # Count each center's frequency\n",
        "        counts = np.bincount(labels.flatten())\n",
        "\n",
        "        # Get the most frequent color\n",
        "        dominant_color = centers[np.argmax(counts)].astype(int)\n",
        "\n",
        "        # Create a swatch to display the color\n",
        "        color_swatch = np.zeros((100, 100, 3), dtype=np.uint8)\n",
        "        color_swatch[:] = dominant_color\n",
        "\n",
        "        return tuple(dominant_color), color_swatch\n",
        "\n",
        "    except Exception as e:\n",
        "        print(f\"An error occurred: {e}\")\n",
        "        return None\n",
        "\n",
        "if __name__ == \"__main__\":\n",
        "    image_file = \"your_image.jpg\"  # Replace with the actual path to your image\n",
        "    result = detect_color(image_file)\n",
        "\n",
        "    if result:\n",
        "        dominant_color_bgr, color_swatch = result\n",
        "        print(f\"Dominant color (BGR): {dominant_color_bgr}\")\n",
        "\n",
        "        # Convert BGR to RGB for display\n",
        "        dominant_color_rgb = (dominant_color_bgr[2], dominant_color_bgr[1], dominant_color_bgr[0])\n",
        "        print(f\"Dominant color (RGB): {dominant_color_rgb}\")\n",
        "\n",
        "        # Show the color swatch\n",
        "        cv2.imshow(\"Dominant Color\", color_swatch)\n",
        "        cv2.waitKey(0)\n",
        "        cv2.destroyAllWindows()"
      ],
      "metadata": {
        "id": "ZSxcYWwDEgFj",
        "outputId": "24b0ba9c-6731-4f39-adef-3fa214853678",
        "colab": {
          "base_uri": "https://localhost:8080/"
        }
      },
      "execution_count": 17,
      "outputs": [
        {
          "output_type": "stream",
          "name": "stdout",
          "text": [
            "Error: Could not open or find the image at your_image.jpg\n"
          ]
        }
      ]
    }
  ],
  "metadata": {
    "colab": {
      "name": "Welcome To Colab",
      "toc_visible": true,
      "provenance": [],
      "include_colab_link": true
    },
    "kernelspec": {
      "display_name": "Python 3",
      "name": "python3"
    }
  },
  "nbformat": 4,
  "nbformat_minor": 0
}